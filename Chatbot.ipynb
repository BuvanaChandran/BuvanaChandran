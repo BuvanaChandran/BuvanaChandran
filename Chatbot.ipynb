{
  "nbformat": 4,
  "nbformat_minor": 0,
  "metadata": {
    "colab": {
      "name": "Chatbot.ipynb",
      "provenance": [],
      "collapsed_sections": [],
      "authorship_tag": "ABX9TyMJYGZXZST70xaAsK0i5rmh",
      "include_colab_link": true
    },
    "kernelspec": {
      "name": "python3",
      "display_name": "Python 3"
    },
    "language_info": {
      "name": "python"
    }
  },
  "cells": [
    {
      "cell_type": "markdown",
      "metadata": {
        "id": "view-in-github",
        "colab_type": "text"
      },
      "source": [
        "<a href=\"https://colab.research.google.com/github/BuvanaChandran/BuvanaChandran/blob/main/Chatbot.ipynb\" target=\"_parent\"><img src=\"https://colab.research.google.com/assets/colab-badge.svg\" alt=\"Open In Colab\"/></a>"
      ]
    },
    {
      "cell_type": "code",
      "metadata": {
        "id": "0VRZonsd-NK_"
      },
      "source": [
        ""
      ],
      "execution_count": null,
      "outputs": []
    },
    {
      "cell_type": "markdown",
      "metadata": {
        "id": "EX0TATgc-QRG"
      },
      "source": [
        "Importing the required libraries\n"
      ]
    },
    {
      "cell_type": "code",
      "metadata": {
        "id": "OWaQVlNBBlch"
      },
      "source": [
        "import numpy as np\n",
        "import nltk\n",
        "import string\n",
        "import random"
      ],
      "execution_count": 1,
      "outputs": []
    },
    {
      "cell_type": "markdown",
      "metadata": {
        "id": "qcbnCTFpB03i"
      },
      "source": [
        "Importing and reading the Corpus"
      ]
    },
    {
      "cell_type": "code",
      "metadata": {
        "colab": {
          "base_uri": "https://localhost:8080/"
        },
        "id": "y47s_pSJB5vZ",
        "outputId": "c472144c-8b92-4fdf-b7b9-0af56519d2ba"
      },
      "source": [
        "f=open('chatbot.txt','r',errors= 'ignore')\n",
        "raw_doc=f.read()\n",
        "raw_doc=raw_doc.lower()#converts text to lowercase\n",
        "nltk.download('punkt')#using the punkt tokenizer\n",
        "nltk.download('wordnet')#using the wordnet dictionary\n",
        "sent_tokens=nltk.sent_tokenize(raw_doc)#converts doc to list of sentences\n",
        "word_tokens=nltk.word_tokenize(raw_doc)#converts doc to list of words"
      ],
      "execution_count": 5,
      "outputs": [
        {
          "output_type": "stream",
          "text": [
            "[nltk_data] Downloading package punkt to /root/nltk_data...\n",
            "[nltk_data]   Unzipping tokenizers/punkt.zip.\n",
            "[nltk_data] Downloading package wordnet to /root/nltk_data...\n",
            "[nltk_data]   Unzipping corpora/wordnet.zip.\n"
          ],
          "name": "stdout"
        }
      ]
    },
    {
      "cell_type": "markdown",
      "metadata": {
        "id": "hL8ZEVluFTrO"
      },
      "source": [
        "Example of sentence tokens"
      ]
    },
    {
      "cell_type": "code",
      "metadata": {
        "colab": {
          "base_uri": "https://localhost:8080/"
        },
        "id": "S1hxip5YFYkF",
        "outputId": "da4fa06c-7d1f-4641-c7ee-03295a15779f"
      },
      "source": [
        "sent_tokens[:2]"
      ],
      "execution_count": 6,
      "outputs": [
        {
          "output_type": "execute_result",
          "data": {
            "text/plain": [
              "['data science is an interdisciplinary field that uses scientific methods, processes, algorithms and systems to extract knowledge and insights from structured and unstructured data,[1][2] and apply knowledge and actionable insights from data across a broad range of application domains.',\n",
              " 'data science is related to data mining, machine learning and big data.']"
            ]
          },
          "metadata": {
            "tags": []
          },
          "execution_count": 6
        }
      ]
    },
    {
      "cell_type": "markdown",
      "metadata": {
        "id": "HQ93TVlCFetJ"
      },
      "source": [
        "Example of word tokens"
      ]
    },
    {
      "cell_type": "code",
      "metadata": {
        "colab": {
          "base_uri": "https://localhost:8080/"
        },
        "id": "WPcnpemUFiO4",
        "outputId": "4f6d3d3c-cada-4a08-babb-30669d063c3a"
      },
      "source": [
        "word_tokens[:2]"
      ],
      "execution_count": 8,
      "outputs": [
        {
          "output_type": "execute_result",
          "data": {
            "text/plain": [
              "['data', 'science']"
            ]
          },
          "metadata": {
            "tags": []
          },
          "execution_count": 8
        }
      ]
    },
    {
      "cell_type": "markdown",
      "metadata": {
        "id": "8CZ7-HNSF6q9"
      },
      "source": [
        "Text Preprocessing"
      ]
    },
    {
      "cell_type": "code",
      "metadata": {
        "id": "itnNmV7JF-ix"
      },
      "source": [
        "lemmer=nltk.stem.WordNetLemmatizer()\n",
        "#WordNet is a semantically-oriented dictionary of English included in NLTK.\n",
        "def LemTokens(tokens):\n",
        "  return [lemmer.lemmatize(token) for token in tokens]\n",
        "remove_punct_dict=dict((ord(punct),None) for punct in string.punctuation)\n",
        "def LemNormalize(text):\n",
        "  return LemTokens(nltk.word_tokenize(text.lower().translate(remove_punct_dict)))  "
      ],
      "execution_count": 11,
      "outputs": []
    },
    {
      "cell_type": "markdown",
      "metadata": {
        "id": "fuQm2bWXH1dA"
      },
      "source": [
        "Defining the greeting function"
      ]
    },
    {
      "cell_type": "code",
      "metadata": {
        "id": "kf-CB6cqH4dE"
      },
      "source": [
        "GREET_INPUTS=(\"hello\",\"hi\",\"greetings\",\"sup\",\"what's up\",\"hey\")\n",
        "GREET_RESPONSES=[\"hi\",\"hey\",\"nods\",\"hi there\",\"hello\",\"I am glad! You are talking to me\"]\n",
        "def greet(sentence):\n",
        "  for word in sentence.split():\n",
        "     if word.lower() in GREET_INPUTS:\n",
        "       return random.choice(GREET_RESPONSES)"
      ],
      "execution_count": 13,
      "outputs": []
    },
    {
      "cell_type": "markdown",
      "metadata": {
        "id": "AWkZx-nsI_dD"
      },
      "source": [
        "Response Generation"
      ]
    },
    {
      "cell_type": "code",
      "metadata": {
        "id": "qhwxrqL-JCn5"
      },
      "source": [
        "from sklearn.feature_extraction.text import TfidfVectorizer\n",
        "from sklearn.metrics.pairwise import cosine_similarity"
      ],
      "execution_count": 17,
      "outputs": []
    },
    {
      "cell_type": "code",
      "metadata": {
        "id": "54XEHiGZJ_Rx"
      },
      "source": [
        "def response(user_response):\n",
        "  robo1_response=''\n",
        "  TfidfVec=TfidfVectorizer(tokenizer=LemNormalize, stop_words='english')\n",
        "  tfidf=TfidfVec.fit_transform(sent_tokens)\n",
        "  vals=cosine_similarity(tfidf[-1],tfidf)\n",
        "  idx=vals.argsort()[0][-2]\n",
        "  flat=vals.flattern()\n",
        "  flat.sort()\n",
        "  req_tfidf=flat[-2]\n",
        "  if(req_tfidf==0):\n",
        "    robo1_response=robo1_response+\"I am sorry! I don't understand  you\"\n",
        "    return robo1_response\n",
        "  else:\n",
        "    robo1_response=robo1_response+sent_tokens[idk]\n",
        "    return robo1_response    "
      ],
      "execution_count": 21,
      "outputs": []
    },
    {
      "cell_type": "markdown",
      "metadata": {
        "id": "WgW-I7LYMP2S"
      },
      "source": [
        "Defining the conversation start/end protocals"
      ]
    },
    {
      "cell_type": "code",
      "metadata": {
        "colab": {
          "base_uri": "https://localhost:8080/"
        },
        "id": "61_ruSD5MYl3",
        "outputId": "43544a60-5ce8-4f1c-9677-ac86c13df6f1"
      },
      "source": [
        "flag=True\n",
        "print('BOT:My name is Stark.Lets have a conversation! Also ,if you want to exit any time ,just tupe Exit')\n",
        "while(flag==True):\n",
        "   user_response=input()\n",
        "   user_response=user_response.lower()\n",
        "   if(user_response!='bye'):\n",
        "     if(user_response==\"thanks\" or user_response==\"thankyou\"):\n",
        "       flag=False\n",
        "       print(\"BOT: You are Welcome..\")\n",
        "     else:\n",
        "       if(greet(user_response)!=None):\n",
        "         print(\"BOT: \"+greet(user_response))\n",
        "       else:\n",
        "         sent_tokens.append(user_response)\n",
        "         word_tokens=word_tokens+nltk.word_tokenize(user_response)\n",
        "         final_words=list(set(word_tokens))\n",
        "         print(\"BOT: \",end=\"\")\n",
        "         print(response(user_reponse))\n",
        "         sent_tokens.remove(user_response)\n",
        "   else:\n",
        "       flag=False\n",
        "       print(\"BOT: Goodbye! Take care <3 \")          \n",
        "     "
      ],
      "execution_count": 36,
      "outputs": [
        {
          "output_type": "stream",
          "text": [
            "BOT:My name is Stark.Lets have a conversation! Also ,if you want to exit any time ,just tupe Exit\n",
            "hi\n",
            "BOT: hey\n",
            "bye\n",
            "BOT: Goodbye! Take care <3 \n"
          ],
          "name": "stdout"
        }
      ]
    }
  ]
}